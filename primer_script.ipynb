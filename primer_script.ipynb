{
 "cells": [
  {
   "cell_type": "code",
   "execution_count": 101,
   "id": "912b7e96-0e70-4ba3-9625-90b300bd97fe",
   "metadata": {},
   "outputs": [],
   "source": [
    "from Bio import Entrez, SeqIO\n",
    "from Bio.Seq import Seq\n",
    "from Bio.SeqUtils import gc_fraction, MeltingTemp as mt\n",
    "\n",
    "Entrez.email = \"MTVRON002@myuct.ac.za\"\n",
    "chr = \"\" \n",
    "snp_pos = 0\n",
    "flank_len = 0\n",
    "\n",
    "def primer_gen(chr, snp_pos, flank_len):\n",
    "\n",
    "    start = snp_pos - flank_len\n",
    "    end = snp_pos + flank_len\n",
    "    hdl = Entrez.efetch(db=\"nucleotide\", id=chr, seq_start=start, seq_stop=end, rettype=\"fasta\")\n",
    "    fasta_seq = SeqIO.read(hdl, \"fasta\")\n",
    "    # design primer\n",
    "    left_primer = fasta_seq.seq[:flank_len]\n",
    "    right_primer = fasta_seq.seq[-flank_len:].reverse_complement()\n",
    "\n",
    "    return left_primer, right_primer\n",
    "    \n"
   ]
  },
  {
   "cell_type": "code",
   "execution_count": 115,
   "id": "c6f0c501-f218-45fc-bfbb-3a48b9911826",
   "metadata": {},
   "outputs": [
    {
     "name": "stdout",
     "output_type": "stream",
     "text": [
      "Left primer is:  ACACCAGTCGTCCACGTGG\n",
      "Right primer is:  TTGTCGCTGCAGCGCTGCT\n",
      "Left primer Parameters: GC Content 0.63 and Melting Temperature 62.0 C\n",
      "Left primer Parameters: GC Content 0.63 and Melting Temperature 62.0 C\n"
     ]
    }
   ],
   "source": [
    "chr = \"NC_000019.10\" \n",
    "snp_pos = 41433392\n",
    "flank_len = 19\n",
    "left_primer, right_primer = primer_gen(chr, snp_pos, flank_len)\n",
    "print(\"Left primer is: \", left_primer, )\n",
    "print(\"Right primer is: \", right_primer)\n",
    "gc_content_left = gc_fraction(left_primer)\n",
    "gc_content_right = gc_fraction(right_primer)\n",
    "Tm_left = mt.Tm_Wallace(left_primer)\n",
    "Tm_right = mt.Tm_Wallace(right_primer)\n",
    "print(f\"Left primer Parameters: GC Content {gc_content_left:.2f} and Melting Temperature {Tm_left} C\")\n",
    "print(f\"Left primer Parameters: GC Content {gc_content_right:.2f} and Melting Temperature {Tm_right} C\")\n"
   ]
  },
  {
   "cell_type": "markdown",
   "id": "43608d41-8ba1-47da-bcb4-51fd630d53aa",
   "metadata": {},
   "source": [
    "considering using the different conditions for the primer design\n",
    "1. variable primer length\n",
    "2. GC content\n",
    "3. Melting Temperature\n",
    "\n",
    "....\n",
    "\n",
    "the code is redesigned"
   ]
  },
  {
   "cell_type": "code",
   "execution_count": null,
   "id": "9c8995f0-13c8-4669-9bac-a591612837c3",
   "metadata": {},
   "outputs": [],
   "source": [
    "from Bio import Entrez, SeqIO\n",
    "from Bio.Seq import Seq\n",
    "from Bio.SeqUtils import gc_fraction, MeltingTemp as mt\n",
    "\n",
    "Entrez.email = \"MTVRON002@myuct.ac.za\"\n",
    "chr = \"\" \n",
    "snp_pos = 0  \n",
    "\n",
    "# function to generate left primer\n",
    "def left_primer_gen(chr, snp_pos):\n",
    "                                    #considering a primer length between 18 and 24\n",
    "    if flank_len in range(18,24):\n",
    "        start = snp_pos - flank_len\n",
    "        end = snp_pos + flank_len\n",
    "        hdl = Entrez.efetch(db=\"nucleotide\", id=chr, seq_start=start, seq_stop=end, rettype=\"fasta\")\n",
    "        fasta_seq = SeqIO.read(hdl, \"fasta\")\n",
    "      \n",
    "        left_primer = fasta_seq.seq[:flank_len]   # design left primer\n",
    "        gc_content = gc_fraction(left_primer)     # testing GC content of the primer\n",
    "        Tm = mt.Tm_Wallace(left_primer)           # testing melting temperature of the primer\n",
    "        if 0.4 <= gc_content <= 0.6 and 54 <= Tm <= 63:\n",
    "            print(\"primer satisfies conditions\")\n",
    "                \n",
    "    return left_primer \n",
    "\n",
    "# function to generate right primer\n",
    "def right_primer_gen(chr, snp_pos):\n",
    "    \n",
    "    if flank_len in range(18,24):\n",
    "        start = snp_pos - flank_len\n",
    "        end = snp_pos + flank_len\n",
    "        hdl = Entrez.efetch(db=\"nucleotide\", id=chr, seq_start=start, seq_stop=end, rettype=\"fasta\")\n",
    "        fasta_seq = SeqIO.read(hdl, \"fasta\")\n",
    "        # design right primer\n",
    "        right_primer = fasta_seq.seq[-flank_len:].reverse_complement() # design right primer\n",
    "        gc_content = gc_fraction(left_primer)                          # testing GC content of the primer\n",
    "        Tm = mt.Tm_Wallace(left_primer)                                # testing melting temperature of the primer\n",
    "        if 0.4 <= gc_content <= 0.6 and 54 <= Tm <= 63:\n",
    "            print(\"primer satisfies conditions\")\n",
    "         \n",
    "    return right_primer"
   ]
  },
  {
   "cell_type": "code",
   "execution_count": 100,
   "id": "5474c89c-ed20-4878-86b0-76b9c952b11c",
   "metadata": {},
   "outputs": [
    {
     "name": "stdout",
     "output_type": "stream",
     "text": [
      "Left primer is:  ACACCAGTCGTCCACGTGG\n",
      "right primer is:  TTGTCGCTGCAGCGCTGCT\n"
     ]
    }
   ],
   "source": [
    "chr = \"NC_000019.10\" \n",
    "snp_pos = 41433392\n",
    "left_primer = left_primer_gen(chr, snp_pos)\n",
    "print(\"Left primer is: \", left_primer)\n",
    "right_primer = right_primer_gen(chr, snp_pos)\n",
    "print(\"right primer is: \", right_primer)"
   ]
  },
  {
   "cell_type": "code",
   "execution_count": null,
   "id": "d4bbb20e-b1af-4c0c-88d1-b635dc9bd16d",
   "metadata": {},
   "outputs": [],
   "source": []
  }
 ],
 "metadata": {
  "kernelspec": {
   "display_name": "Python 3 (ipykernel)",
   "language": "python",
   "name": "python3"
  },
  "language_info": {
   "codemirror_mode": {
    "name": "ipython",
    "version": 3
   },
   "file_extension": ".py",
   "mimetype": "text/x-python",
   "name": "python",
   "nbconvert_exporter": "python",
   "pygments_lexer": "ipython3",
   "version": "3.10.12"
  }
 },
 "nbformat": 4,
 "nbformat_minor": 5
}
